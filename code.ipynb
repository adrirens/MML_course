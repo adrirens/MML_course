{
  "nbformat": 4,
  "nbformat_minor": 0,
  "metadata": {
    "colab": {
      "provenance": [],
      "authorship_tag": "ABX9TyMnGoX93V40GMUY/qOIITGk",
      "include_colab_link": true
    },
    "kernelspec": {
      "name": "python3",
      "display_name": "Python 3"
    },
    "language_info": {
      "name": "python"
    }
  },
  "cells": [
    {
      "cell_type": "markdown",
      "metadata": {
        "id": "view-in-github",
        "colab_type": "text"
      },
      "source": [
        "<a href=\"https://colab.research.google.com/github/adrirens/MML_course/blob/main/code.ipynb\" target=\"_parent\"><img src=\"https://colab.research.google.com/assets/colab-badge.svg\" alt=\"Open In Colab\"/></a>"
      ]
    },
    {
      "cell_type": "code",
      "execution_count": 18,
      "metadata": {
        "colab": {
          "base_uri": "https://localhost:8080/"
        },
        "id": "9dkoqGi5BclQ",
        "outputId": "89bc7d10-bde6-4144-e8ea-8be7ac27e1a0"
      },
      "outputs": [
        {
          "output_type": "stream",
          "name": "stdout",
          "text": [
            "Drive already mounted at /content/drive; to attempt to forcibly remount, call drive.mount(\"/content/drive\", force_remount=True).\n",
            "mkdir: cannot create directory ‘/content/drive/MyDrive/mml’: File exists\n",
            "/content/drive/MyDrive/mml\n"
          ]
        }
      ],
      "source": [
        "from google.colab import drive\n",
        "from os.path import join\n",
        "\n",
        "ROOT = '/content/drive'     # default for the drive\n",
        "PROJ = 'MyDrive/mml'       # path to your project on Drive\n",
        "\n",
        "drive.mount(ROOT)           # we mount the drive at /content/drive\n",
        "\n",
        "PROJECT_PATH = join(ROOT, PROJ)\n",
        "!mkdir \"{PROJECT_PATH}\"    # in case we haven't created it already\n",
        "%cd \"{PROJECT_PATH}\""
      ]
    },
    {
      "cell_type": "code",
      "source": [
        "GIT_USERNAME = \"adrirens\"  # This is a shared repository. If you want to synchronize with your own fork, well, you need to fork the github repository and replace the given name by your username.\n",
        "GIT_TOKEN = \"XXX\"  # This token is used only if you work with your own fork. You have to generate it and put it here. Make sure to keep it confidential: it is a very sensitive information!\n",
        "GIT_REPOSITORY = \"MML_course\""
      ],
      "metadata": {
        "id": "5M2kmzj3DNQa"
      },
      "execution_count": 19,
      "outputs": []
    },
    {
      "cell_type": "code",
      "source": [
        "# GIT_PATH = \"https://\"+GIT_TOKEN+\"@github.com/\"+GIT_USERNAME+\"/\"+GIT_REPOSITORY+\".git\"\n",
        "#GIT_PATH = \"https://github.com/\"+GIT_USERNAME+\"/\"+GIT_REPOSITORY+\".git\"\n",
        "#!git clone \"{GIT_PATH}\"\n",
        "%cd \"{GIT_REPOSITORY}\""
      ],
      "metadata": {
        "colab": {
          "base_uri": "https://localhost:8080/"
        },
        "id": "0ZZywTDbBuER",
        "outputId": "49d081b7-801b-4c21-ca7c-a418a51ed1d6"
      },
      "execution_count": 20,
      "outputs": [
        {
          "output_type": "stream",
          "name": "stdout",
          "text": [
            "/content/drive/MyDrive/mml/MML_course\n"
          ]
        }
      ]
    },
    {
      "cell_type": "code",
      "source": [
        "!ls"
      ],
      "metadata": {
        "id": "s6h_0AUtDWDT",
        "colab": {
          "base_uri": "https://localhost:8080/"
        },
        "outputId": "7cc2ccaa-632b-42da-c0be-5727edba3dea"
      },
      "execution_count": 21,
      "outputs": [
        {
          "output_type": "stream",
          "name": "stdout",
          "text": [
            "base_model  function_fitting\t       kan_comparison_table.gsheet  model\n",
            "code.ipynb  image_classification       kan_results_summary.csv\t    README.md\n",
            "dataset     image_classification_conv  logs\t\t\t    solving_pde\n",
            "figures     kan_comparison_table.csv   MMl_course\n"
          ]
        }
      ]
    },
    {
      "cell_type": "code",
      "source": [
        "!pip install torch torchvision fvcore iopath yacs tqdm numpy matplotlib"
      ],
      "metadata": {
        "id": "eO_pUPY1KB5S",
        "colab": {
          "base_uri": "https://localhost:8080/"
        },
        "outputId": "8fe36515-35d1-417c-caff-dd817f960909",
        "collapsed": true
      },
      "execution_count": 22,
      "outputs": [
        {
          "output_type": "stream",
          "name": "stdout",
          "text": [
            "Requirement already satisfied: torch in /usr/local/lib/python3.12/dist-packages (2.8.0+cu126)\n",
            "Requirement already satisfied: torchvision in /usr/local/lib/python3.12/dist-packages (0.23.0+cu126)\n",
            "Requirement already satisfied: fvcore in /usr/local/lib/python3.12/dist-packages (0.1.5.post20221221)\n",
            "Requirement already satisfied: iopath in /usr/local/lib/python3.12/dist-packages (0.1.10)\n",
            "Requirement already satisfied: yacs in /usr/local/lib/python3.12/dist-packages (0.1.8)\n",
            "Requirement already satisfied: tqdm in /usr/local/lib/python3.12/dist-packages (4.67.1)\n",
            "Requirement already satisfied: numpy in /usr/local/lib/python3.12/dist-packages (2.0.2)\n",
            "Requirement already satisfied: matplotlib in /usr/local/lib/python3.12/dist-packages (3.10.0)\n",
            "Requirement already satisfied: filelock in /usr/local/lib/python3.12/dist-packages (from torch) (3.20.0)\n",
            "Requirement already satisfied: typing-extensions>=4.10.0 in /usr/local/lib/python3.12/dist-packages (from torch) (4.15.0)\n",
            "Requirement already satisfied: setuptools in /usr/local/lib/python3.12/dist-packages (from torch) (75.2.0)\n",
            "Requirement already satisfied: sympy>=1.13.3 in /usr/local/lib/python3.12/dist-packages (from torch) (1.13.3)\n",
            "Requirement already satisfied: networkx in /usr/local/lib/python3.12/dist-packages (from torch) (3.5)\n",
            "Requirement already satisfied: jinja2 in /usr/local/lib/python3.12/dist-packages (from torch) (3.1.6)\n",
            "Requirement already satisfied: fsspec in /usr/local/lib/python3.12/dist-packages (from torch) (2025.3.0)\n",
            "Requirement already satisfied: nvidia-cuda-nvrtc-cu12==12.6.77 in /usr/local/lib/python3.12/dist-packages (from torch) (12.6.77)\n",
            "Requirement already satisfied: nvidia-cuda-runtime-cu12==12.6.77 in /usr/local/lib/python3.12/dist-packages (from torch) (12.6.77)\n",
            "Requirement already satisfied: nvidia-cuda-cupti-cu12==12.6.80 in /usr/local/lib/python3.12/dist-packages (from torch) (12.6.80)\n",
            "Requirement already satisfied: nvidia-cudnn-cu12==9.10.2.21 in /usr/local/lib/python3.12/dist-packages (from torch) (9.10.2.21)\n",
            "Requirement already satisfied: nvidia-cublas-cu12==12.6.4.1 in /usr/local/lib/python3.12/dist-packages (from torch) (12.6.4.1)\n",
            "Requirement already satisfied: nvidia-cufft-cu12==11.3.0.4 in /usr/local/lib/python3.12/dist-packages (from torch) (11.3.0.4)\n",
            "Requirement already satisfied: nvidia-curand-cu12==10.3.7.77 in /usr/local/lib/python3.12/dist-packages (from torch) (10.3.7.77)\n",
            "Requirement already satisfied: nvidia-cusolver-cu12==11.7.1.2 in /usr/local/lib/python3.12/dist-packages (from torch) (11.7.1.2)\n",
            "Requirement already satisfied: nvidia-cusparse-cu12==12.5.4.2 in /usr/local/lib/python3.12/dist-packages (from torch) (12.5.4.2)\n",
            "Requirement already satisfied: nvidia-cusparselt-cu12==0.7.1 in /usr/local/lib/python3.12/dist-packages (from torch) (0.7.1)\n",
            "Requirement already satisfied: nvidia-nccl-cu12==2.27.3 in /usr/local/lib/python3.12/dist-packages (from torch) (2.27.3)\n",
            "Requirement already satisfied: nvidia-nvtx-cu12==12.6.77 in /usr/local/lib/python3.12/dist-packages (from torch) (12.6.77)\n",
            "Requirement already satisfied: nvidia-nvjitlink-cu12==12.6.85 in /usr/local/lib/python3.12/dist-packages (from torch) (12.6.85)\n",
            "Requirement already satisfied: nvidia-cufile-cu12==1.11.1.6 in /usr/local/lib/python3.12/dist-packages (from torch) (1.11.1.6)\n",
            "Requirement already satisfied: triton==3.4.0 in /usr/local/lib/python3.12/dist-packages (from torch) (3.4.0)\n",
            "Requirement already satisfied: pillow!=8.3.*,>=5.3.0 in /usr/local/lib/python3.12/dist-packages (from torchvision) (11.3.0)\n",
            "Requirement already satisfied: pyyaml>=5.1 in /usr/local/lib/python3.12/dist-packages (from fvcore) (6.0.3)\n",
            "Requirement already satisfied: termcolor>=1.1 in /usr/local/lib/python3.12/dist-packages (from fvcore) (3.1.0)\n",
            "Requirement already satisfied: tabulate in /usr/local/lib/python3.12/dist-packages (from fvcore) (0.9.0)\n",
            "Requirement already satisfied: portalocker in /usr/local/lib/python3.12/dist-packages (from iopath) (3.2.0)\n",
            "Requirement already satisfied: contourpy>=1.0.1 in /usr/local/lib/python3.12/dist-packages (from matplotlib) (1.3.3)\n",
            "Requirement already satisfied: cycler>=0.10 in /usr/local/lib/python3.12/dist-packages (from matplotlib) (0.12.1)\n",
            "Requirement already satisfied: fonttools>=4.22.0 in /usr/local/lib/python3.12/dist-packages (from matplotlib) (4.60.1)\n",
            "Requirement already satisfied: kiwisolver>=1.3.1 in /usr/local/lib/python3.12/dist-packages (from matplotlib) (1.4.9)\n",
            "Requirement already satisfied: packaging>=20.0 in /usr/local/lib/python3.12/dist-packages (from matplotlib) (25.0)\n",
            "Requirement already satisfied: pyparsing>=2.3.1 in /usr/local/lib/python3.12/dist-packages (from matplotlib) (3.2.5)\n",
            "Requirement already satisfied: python-dateutil>=2.7 in /usr/local/lib/python3.12/dist-packages (from matplotlib) (2.9.0.post0)\n",
            "Requirement already satisfied: six>=1.5 in /usr/local/lib/python3.12/dist-packages (from python-dateutil>=2.7->matplotlib) (1.17.0)\n",
            "Requirement already satisfied: mpmath<1.4,>=1.1.0 in /usr/local/lib/python3.12/dist-packages (from sympy>=1.13.3->torch) (1.3.0)\n",
            "Requirement already satisfied: MarkupSafe>=2.0 in /usr/local/lib/python3.12/dist-packages (from jinja2->torch) (3.0.3)\n"
          ]
        }
      ]
    },
    {
      "cell_type": "code",
      "source": [
        "models = [\n",
        "    \"I.6.20a\",\n",
        "    \"I.6.20\",\n",
        "    \"I.6.20b\",\n",
        "    \"I.8.4\",\n",
        "    \"I.9.18\",\n",
        "    \"I.12.2\",\n",
        "    \"I.12.4\",\n",
        "    \"I.12.5\",\n",
        "    \"I.10.7\",\n",
        "    \"I.12.11\",\n",
        "    \"I.13.4\",\n",
        "    \"I.13.12\",\n",
        "    \"I.14.3\",\n",
        "    \"I.14.4\",\n",
        "    \"I.15.3x\",\n",
        "    \"I.15.10\",\n",
        "    \"I.18.4\"\n",
        "]\n",
        "\n",
        "grid_sizes = [\n",
        "    \"5\",\n",
        "    \"20\"\n",
        "]\n",
        "\n",
        "\n",
        "model_types = [\"KAN\", \"HyperKAN\"]\n"
      ],
      "metadata": {
        "id": "AS9LDQofCDzB"
      },
      "execution_count": 23,
      "outputs": []
    },
    {
      "cell_type": "markdown",
      "source": [
        "\n",
        "!python image_classification_conv/train_meta.py \\\n",
        "  --model MetaKAN8_M \\\n",
        "  --n_metanets 1 \\\n",
        "  --optim_set double \\\n",
        "  --lr_h 1e-4 \\\n",
        "  --lr_e 1e-3 \\\n",
        "  --embedding_dim 1 \\\n",
        "  --hidden_dim 32 \\\n",
        "  --dataset CIFAR10 \\\n",
        "  --batch-size 128 \\\n",
        "  --epochs 50\n",
        "!python image_classification_conv/train.py \\\n",
        "  --model KAN8 \\\n",
        "  --grid_size 5 \\\n",
        "  --spline_order 3 \\\n",
        "  --dataset CIFAR10 \\\n",
        "  --batch-size 128 \\\n",
        "  --epochs 50 \\\n",
        "  --lr 1e-3"
      ],
      "metadata": {
        "id": "ms33YrQhFmfH"
      }
    },
    {
      "cell_type": "code",
      "source": [
        "\n"
      ],
      "metadata": {
        "id": "uFjW5dsQy1G2"
      },
      "execution_count": 23,
      "outputs": []
    },
    {
      "cell_type": "code",
      "source": [
        "import subprocess\n",
        "import re\n",
        "import pandas as pd\n",
        "import time\n",
        "\n",
        "def run_and_extract(cmd):\n",
        "    \"\"\"Exécute une commande shell et retourne les métriques extraites\"\"\"\n",
        "    result = subprocess.run(cmd, capture_output=True, text=True)\n",
        "    out = result.stdout\n",
        "\n",
        "    # Extraction des infos\n",
        "    num_params = re.search(r\"Number of parameters:\\s*([\\d,]+)\", out)\n",
        "    test_losses = re.findall(r\"test set: Average loss:\\s*([\\d\\.Ee-]+)\", out)\n",
        "\n",
        "    return {\n",
        "        \"num_params\": int(num_params.group(1).replace(\",\", \"\")) if num_params else None,\n",
        "        \"final_test_loss\": float(test_losses[-1]) if test_losses else None,\n",
        "    }\n",
        "\n",
        "raw_results = []\n",
        "for grid in grid_sizes:\n",
        "  for model_name in models:\n",
        "    print(f\"\\n🔹 Dataset: {model_name} | Grid: {grid}\")\n",
        "    for model_type in model_types:\n",
        "        print(f\"   → Training {model_type}...\")\n",
        "\n",
        "        if model_type == \"KAN\":\n",
        "            cmd = [\n",
        "                \"python\", \"function_fitting/train.py\",\n",
        "                \"--model\", \"KAN\",\n",
        "                \"--optimizer\", \"lbfgs\",\n",
        "                \"--lr\", \"1\",\n",
        "                \"--dataset\", model_name,\n",
        "                \"--layers_width\", \"5\", \"5\", \"5\",\n",
        "                \"--loss\", \"mse\",\n",
        "                \"--kan_bspline_grid\", str(grid)\n",
        "            ]\n",
        "        else:  # HyperKAN\n",
        "            cmd = [\n",
        "                \"python\", \"function_fitting/train_hyper.py\",\n",
        "                \"--model\", \"HyperKAN\",\n",
        "                \"--optimizer\", \"lbfgs\",\n",
        "                \"--lr\", \"1\",\n",
        "                \"--dataset\", model_name,\n",
        "                \"--layers_width\", \"5\", \"5\", \"5\",\n",
        "                \"--loss\", \"mse\",\n",
        "                \"--embedding_dim\", \"1\",\n",
        "                \"--hidden_dim\", \"8\",\n",
        "                \"--kan_bspline_grid\", str(grid)\n",
        "            ]\n",
        "\n",
        "        res = run_and_extract(cmd)\n",
        "        res.update({\n",
        "            \"dataset\": model_name,\n",
        "            \"type\": model_type,\n",
        "            \"grid\": grid,\n",
        "        })\n",
        "        raw_results.append(res)\n",
        "        time.sleep(0.5)\n",
        "\n",
        "# 🧾 Conversion en DataFrame\n",
        "df = pd.DataFrame(raw_results)\n",
        "\n",
        "# 🪄 Transformation au format du papier\n",
        "# (colonnes = G=5 KAN, G=5 HyperKAN, G=20 KAN, G=20 HyperKAN)\n",
        "pivot = df.pivot_table(\n",
        "    index=\"dataset\",\n",
        "    columns=[\"grid\", \"type\"],\n",
        "    values=[\"final_test_loss\", \"num_params\"]\n",
        ")\n",
        "\n",
        "# Nettoyage du MultiIndex pour affichage plus clair\n",
        "pivot.columns = [\n",
        "    f\"G={g} {t} {m}\" for m, g, t in pivot.columns.to_flat_index()\n",
        "]\n",
        "\n",
        "# ✅ Tableau final\n",
        "pivot = pivot.reset_index()\n",
        "display(pivot)\n",
        "\n",
        "# 💾 Sauvegarde CSV\n",
        "pivot.to_csv(\"kan_comparison_table.csv\", index=False)\n",
        "print(\"\\n✅ Tableau sauvegardé dans kan_comparison_table.csv\")"
      ],
      "metadata": {
        "id": "7qm7GJ0a3AQJ",
        "colab": {
          "base_uri": "https://localhost:8080/",
          "height": 110
        },
        "outputId": "6cdaa0ce-24e8-4af3-c732-89ec6b386e02"
      },
      "execution_count": 25,
      "outputs": [
        {
          "output_type": "error",
          "ename": "SyntaxError",
          "evalue": "invalid syntax (ipython-input-3177920379.py, line 56)",
          "traceback": [
            "\u001b[0;36m  File \u001b[0;32m\"/tmp/ipython-input-3177920379.py\"\u001b[0;36m, line \u001b[0;32m56\u001b[0m\n\u001b[0;31m    \"grid\": grid,\u001b[0m\n\u001b[0m    ^\u001b[0m\n\u001b[0;31mSyntaxError\u001b[0m\u001b[0;31m:\u001b[0m invalid syntax\n"
          ]
        }
      ]
    },
    {
      "cell_type": "code",
      "source": [],
      "metadata": {
        "id": "I2j9PwVqEtoi"
      },
      "execution_count": null,
      "outputs": []
    }
  ]
}